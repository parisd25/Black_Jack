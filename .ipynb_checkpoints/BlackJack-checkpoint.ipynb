{
 "cells": [
  {
   "cell_type": "code",
   "execution_count": null,
   "metadata": {},
   "outputs": [
    {
     "name": "stdout",
     "output_type": "stream",
     "text": [
      "Dealer has X &  3\n",
      "You have  [2, 2]\n",
      "Do you want to stay or hit? hit\n",
      "You now have a total of11 from these cards [2, 2, 7]\n"
     ]
    }
   ],
   "source": [
    "import random\n",
    "\n",
    "dealer_cards = []\n",
    "\n",
    "player_cards = []\n",
    "\n",
    "while len(dealer_cards) !=2:\n",
    "    dealer_cards.append(random.randint(1,11))\n",
    "    if len(dealer_cards) == 2:\n",
    "        print(\"Dealer has X & \", dealer_cards[1])\n",
    "        \n",
    "        \n",
    "while len(player_cards) !=2:\n",
    "    player_cards.append(random.randint(1,11))\n",
    "    if len(player_cards) == 2:\n",
    "        print(\"You have \", player_cards)\n",
    "        \n",
    "if sum(dealer_cards) == 21:\n",
    "    print(\"Dealer has 21 amd wins!\")\n",
    "elif sum(dealer_cards) > 21:\n",
    "    print(\"Dealer has busted!\")\n",
    "    \n",
    "while sum(player_cards) < 21:\n",
    "    action_taken = str(input(\"Do you want to stay or hit? \"))\n",
    "    if action_taken == \"hit\":\n",
    "        player_cards.append(random.randint(1,11))\n",
    "        print(\"You now have a total of\" + str(sum(player_cards)) + \" from these cards\", player_cards)\n",
    "    else:\n",
    "        print(\"The dealer has a total of\" + str(sum(dealer_cards)) + \" with\", dealer_cards)\n",
    "        print(\"You have a total of\" + str(sum(player_cards)) + \" with\", player_cards)\n",
    "        if sum(dealer_cards) > sum(player_cards):\n",
    "            print(\"Dealer wins!\")\n",
    "        else:\n",
    "            print(\"You win!\")\n",
    "            break\n",
    "            \n",
    "if sum(player_cards) > 21:\n",
    "    print(\"You BUSTED! Dealer wins.\")\n",
    "elif sum(player_cards) == 21:\n",
    "    print(\"You have BLACKJACK! You Win! ! 21\")"
   ]
  },
  {
   "cell_type": "code",
   "execution_count": null,
   "metadata": {},
   "outputs": [],
   "source": []
  }
 ],
 "metadata": {
  "kernelspec": {
   "display_name": "Python 3",
   "language": "python",
   "name": "python3"
  },
  "language_info": {
   "codemirror_mode": {
    "name": "ipython",
    "version": 3
   },
   "file_extension": ".py",
   "mimetype": "text/x-python",
   "name": "python",
   "nbconvert_exporter": "python",
   "pygments_lexer": "ipython3",
   "version": "3.8.5"
  }
 },
 "nbformat": 4,
 "nbformat_minor": 4
}
